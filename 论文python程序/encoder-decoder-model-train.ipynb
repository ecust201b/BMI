{
 "cells": [
  {
   "cell_type": "code",
   "execution_count": 1,
   "metadata": {},
   "outputs": [
    {
     "name": "stderr",
     "output_type": "stream",
     "text": [
      "Using TensorFlow backend.\n"
     ]
    }
   ],
   "source": [
    "import scipy.io as sio\n",
    "import matplotlib.pyplot as plt\n",
    "import numpy as np\n",
    "from keras.models import Model\n",
    "from keras.layers import Dense, Activation, LSTM, GRU, Input, concatenate\n",
    "from keras.optimizers import Adam\n",
    "from keras.engine.topology import Layer\n",
    "from keras import backend as K"
   ]
  },
  {
   "cell_type": "code",
   "execution_count": 2,
   "metadata": {},
   "outputs": [],
   "source": [
    "class AttentionLayer(Layer):\n",
    "    def __init__(self, **kwargs):\n",
    "        super(AttentionLayer, self).__init__(** kwargs)\n",
    "\n",
    "    def build(self, input_shape):\n",
    "        assert len(input_shape)==3\n",
    "        # W.shape = (time_steps, time_steps)\n",
    "        self.W = self.add_weight(name='att_weight', \n",
    "                                 shape=(input_shape[1], input_shape[1]),\n",
    "                                 initializer='uniform',\n",
    "                                 trainable=True)\n",
    "        self.b = self.add_weight(name='att_bias', \n",
    "                                 shape=(input_shape[1],),\n",
    "                                 initializer='uniform',\n",
    "                                 trainable=True)\n",
    "        super(AttentionLayer, self).build(input_shape)\n",
    "\n",
    "    def call(self, inputs):\n",
    "        # inputs.shape = (batch_size, time_steps, seq_len)\n",
    "        x = K.permute_dimensions(inputs, (0, 2, 1))\n",
    "        # x.shape = (batch_size, seq_len, time_steps)\n",
    "        a = K.softmax(K.tanh(K.dot(x, self.W) + self.b))\n",
    "        outputs = K.permute_dimensions(a * x, (0, 2, 1))\n",
    "#         outputs = K.sum(outputs, axis=1)\n",
    "        return outputs\n",
    "\n",
    "    def compute_output_shape(self, input_shape):\n",
    "        return input_shape[0], input_shape[1], input_shape[2]"
   ]
  },
  {
   "cell_type": "code",
   "execution_count": 9,
   "metadata": {},
   "outputs": [],
   "source": [
    "import pandas as pd\n",
    "df = pd.read_csv('data_python.csv')\n",
    "df.head()\n",
    "T2 = df['Y0']\n",
    "T_new = []\n",
    "for i in range(1600):\n",
    "    tmp = [0] * 9\n",
    "    tmp.extend(T2[i * 146: (i + 1)* 146])\n",
    "    for j in range(len(tmp) - 10):\n",
    "        T_new.append(tmp[j: j + 10])\n",
    "T_new = np.array(T_new)\n",
    "u1 = df['U1']\n",
    "u2 = df['U2']\n",
    "y1 = df['Y1']\n",
    "y2 = df['Y2']\n",
    "a1 = df['A1']\n",
    "a2 = df['A2']\n",
    "train_data = []\n",
    "target = []\n",
    "for i in range(1600):\n",
    "    tmp = np.array([0] * 9)\n",
    "    u1_tmp = np.hstack((tmp, u1[i * 146: (i + 1)* 146]))\n",
    "    u2_tmp = np.hstack((tmp, u2[i * 146: (i + 1)* 146]))\n",
    "    y1_tmp = np.hstack((tmp, y1[i * 146: (i + 1)* 146]))\n",
    "    y2_tmp = np.hstack((tmp, y2[i * 146: (i + 1)* 146]))\n",
    "    a1_tmp = np.hstack((tmp, a1[i * 146: (i + 1)* 146]))\n",
    "    a2_tmp = np.hstack((tmp, a2[i * 146: (i + 1)* 146]))\n",
    "    target.extend(T2[i * 146 + 1: (i + 1)* 146])\n",
    "    for j in range(len(u1_tmp) - 10):\n",
    "        train_data.append(np.hstack((u1_tmp[j: j + 10], u2_tmp[j: j + 10],\n",
    "                                     y1_tmp[j: j + 10], y2_tmp[j: j + 10],\n",
    "                                     a1_tmp[j: j + 10], a2_tmp[j: j + 10])))\n",
    "train_data = np.array(train_data)\n",
    "target = np.array(target).reshape(232000, 1)"
   ]
  },
  {
   "cell_type": "code",
   "execution_count": 11,
   "metadata": {},
   "outputs": [
    {
     "name": "stdout",
     "output_type": "stream",
     "text": [
      "(232000, 1) (232000, 60) (232000, 10)\n"
     ]
    }
   ],
   "source": [
    "# T = np.load('python_train_target.csv.npy').reshape(233600, 1)\n",
    "# P = np.load('python_train_data.csv.npy')\n",
    "# P_T = np.load('python_train_data_Y0.csv.npy')\n",
    "T = target\n",
    "P = train_data\n",
    "P_T = T_new\n",
    "print(T.shape, P.shape, P_T.shape)\n",
    "train_num = int(P.shape[0] * 0.8)\n",
    "test_num = int(P.shape[0] * 0.2)\n",
    "P_Train = P[:train_num, :]\n",
    "T_Train = T[:train_num, :]\n",
    "P_Test = P[train_num:, :]\n",
    "T_Test = T[train_num:, :]\n",
    "from sklearn.preprocessing import StandardScaler\n",
    "from sklearn.externals import joblib\n",
    "stdsc = StandardScaler()\n",
    "P_Train = stdsc.fit_transform(P_Train)\n",
    "P_Test = stdsc.transform(P_Test)\n",
    "joblib.dump(stdsc, \"stdsc_python.m\")\n",
    "P_Train = P_Train.reshape(train_num,1,60)\n",
    "P_Test = P_Test.reshape(test_num,1,60)\n",
    "T_new_Train = P_T[:train_num, :]\n",
    "T_new_Test = P_T[train_num:, :]\n",
    "T_new_Train = T_new_Train.reshape(train_num,1,10)\n",
    "T_new_Test = T_new_Test.reshape(test_num,1,10)"
   ]
  },
  {
   "cell_type": "code",
   "execution_count": 12,
   "metadata": {},
   "outputs": [],
   "source": [
    "inputs = Input(shape=(1, 60))\n",
    "gru1 = GRU(units=16, recurrent_dropout=0.2, activation=\"tanh\", return_sequences=True)(inputs)\n",
    "gru2 = GRU(units=8, recurrent_dropout=0.2, activation=\"relu\", return_sequences=True)(gru1)\n",
    "attenetion = AttentionLayer()(gru2)\n",
    "T_input = Input(shape=(1, 10))\n",
    "gru4 = GRU(units=8, recurrent_dropout=0.2, activation=\"tanh\", return_sequences=True)(T_input)\n",
    "x = concatenate([attenetion, gru4], axis=1)\n",
    "gru4 = GRU(units=4, recurrent_dropout=0.2, activation=\"tanh\")(x)\n",
    "x = Dense(16, activation='relu')(gru4)\n",
    "main_output = Dense(1, name='main_output')(x)\n",
    "model = Model(inputs=[inputs, T_input], outputs=main_output)"
   ]
  },
  {
   "cell_type": "code",
   "execution_count": 13,
   "metadata": {},
   "outputs": [
    {
     "name": "stdout",
     "output_type": "stream",
     "text": [
      "Train on 185600 samples, validate on 46400 samples\n",
      "Epoch 1/50\n",
      "185600/185600 [==============================] - 13s 69us/step - loss: 2.0799e-05 - val_loss: 1.2193e-06\n",
      "Epoch 2/50\n",
      "185600/185600 [==============================] - 9s 48us/step - loss: 7.6848e-07 - val_loss: 9.1928e-07\n",
      "Epoch 3/50\n",
      "185600/185600 [==============================] - 9s 49us/step - loss: 4.3645e-07 - val_loss: 4.0670e-07\n",
      "Epoch 4/50\n",
      "185600/185600 [==============================] - 9s 50us/step - loss: 3.6138e-07 - val_loss: 2.6498e-07\n",
      "Epoch 5/50\n",
      "185600/185600 [==============================] - 9s 47us/step - loss: 2.8688e-07 - val_loss: 4.2606e-07\n",
      "Epoch 6/50\n",
      "185600/185600 [==============================] - 9s 49us/step - loss: 2.6780e-07 - val_loss: 2.4168e-07\n",
      "Epoch 7/50\n",
      "185600/185600 [==============================] - 8s 46us/step - loss: 2.3413e-07 - val_loss: 2.1972e-07\n",
      "Epoch 8/50\n",
      "185600/185600 [==============================] - 9s 47us/step - loss: 2.1213e-07 - val_loss: 1.7298e-07\n",
      "Epoch 9/50\n",
      "185600/185600 [==============================] - 9s 46us/step - loss: 1.7831e-07 - val_loss: 1.9714e-07\n",
      "Epoch 10/50\n",
      "185600/185600 [==============================] - 9s 47us/step - loss: 1.7612e-07 - val_loss: 2.9415e-07\n",
      "Epoch 11/50\n",
      "185600/185600 [==============================] - 9s 48us/step - loss: 1.7157e-07 - val_loss: 3.2514e-07\n",
      "Epoch 12/50\n",
      "185600/185600 [==============================] - 9s 49us/step - loss: 1.4640e-07 - val_loss: 1.6081e-07\n",
      "Epoch 13/50\n",
      "185600/185600 [==============================] - 9s 49us/step - loss: 1.4464e-07 - val_loss: 5.9549e-07\n",
      "Epoch 14/50\n",
      "185600/185600 [==============================] - 9s 46us/step - loss: 1.4343e-07 - val_loss: 1.8134e-07\n",
      "Epoch 15/50\n",
      "185600/185600 [==============================] - 9s 47us/step - loss: 1.6012e-07 - val_loss: 6.9998e-08\n",
      "Epoch 16/50\n",
      "185600/185600 [==============================] - 9s 46us/step - loss: 1.2136e-07 - val_loss: 2.2038e-07\n",
      "Epoch 17/50\n",
      "185600/185600 [==============================] - 9s 47us/step - loss: 1.3315e-07 - val_loss: 1.6587e-07\n",
      "Epoch 18/50\n",
      "185600/185600 [==============================] - 9s 49us/step - loss: 1.1421e-07 - val_loss: 2.4947e-07\n",
      "Epoch 19/50\n",
      "185600/185600 [==============================] - 9s 47us/step - loss: 1.1329e-07 - val_loss: 1.2391e-07\n",
      "Epoch 20/50\n",
      "185600/185600 [==============================] - 9s 47us/step - loss: 1.0724e-07 - val_loss: 1.2397e-07\n",
      "Epoch 21/50\n",
      "185600/185600 [==============================] - 9s 47us/step - loss: 1.0725e-07 - val_loss: 5.4866e-08\n",
      "Epoch 22/50\n",
      "185600/185600 [==============================] - 9s 47us/step - loss: 1.0229e-07 - val_loss: 2.0134e-07\n",
      "Epoch 23/50\n",
      "185600/185600 [==============================] - 9s 47us/step - loss: 9.4537e-08 - val_loss: 1.4364e-07\n",
      "Epoch 24/50\n",
      "185600/185600 [==============================] - 9s 46us/step - loss: 1.0167e-07 - val_loss: 7.4208e-08\n",
      "Epoch 25/50\n",
      "185600/185600 [==============================] - 8s 46us/step - loss: 1.0830e-07 - val_loss: 1.3218e-07\n",
      "Epoch 26/50\n",
      "185600/185600 [==============================] - 9s 47us/step - loss: 8.6230e-08 - val_loss: 5.8031e-08\n",
      "Epoch 27/50\n",
      "185600/185600 [==============================] - 9s 46us/step - loss: 9.4184e-08 - val_loss: 6.8893e-08\n",
      "Epoch 28/50\n",
      "185600/185600 [==============================] - 10s 52us/step - loss: 8.5892e-08 - val_loss: 5.5495e-07\n",
      "Epoch 29/50\n",
      "185600/185600 [==============================] - 9s 47us/step - loss: 9.6136e-08 - val_loss: 9.9426e-08\n",
      "Epoch 30/50\n",
      "185600/185600 [==============================] - 9s 47us/step - loss: 8.2932e-08 - val_loss: 5.5935e-08\n",
      "Epoch 31/50\n",
      "185600/185600 [==============================] - 9s 46us/step - loss: 9.0291e-08 - val_loss: 8.9377e-08\n",
      "Epoch 32/50\n",
      "185600/185600 [==============================] - 9s 48us/step - loss: 8.5364e-08 - val_loss: 7.6975e-08\n",
      "Epoch 33/50\n",
      "185600/185600 [==============================] - 9s 47us/step - loss: 7.4564e-08 - val_loss: 8.5688e-08\n",
      "Epoch 34/50\n",
      "185600/185600 [==============================] - 9s 47us/step - loss: 7.3206e-08 - val_loss: 6.9874e-07\n",
      "Epoch 35/50\n",
      "185600/185600 [==============================] - 9s 46us/step - loss: 7.9354e-08 - val_loss: 1.0541e-07\n",
      "Epoch 36/50\n",
      "185600/185600 [==============================] - 9s 48us/step - loss: 7.8214e-08 - val_loss: 1.1197e-07\n",
      "Epoch 37/50\n",
      "185600/185600 [==============================] - 9s 47us/step - loss: 7.3305e-08 - val_loss: 5.4532e-08\n",
      "Epoch 38/50\n",
      "185600/185600 [==============================] - 9s 47us/step - loss: 7.3335e-08 - val_loss: 1.1253e-07\n",
      "Epoch 39/50\n",
      "185600/185600 [==============================] - 9s 49us/step - loss: 6.9748e-08 - val_loss: 4.4671e-08\n",
      "Epoch 40/50\n",
      "185600/185600 [==============================] - 9s 48us/step - loss: 7.4356e-08 - val_loss: 5.9194e-08\n",
      "Epoch 41/50\n",
      "185600/185600 [==============================] - 9s 47us/step - loss: 8.7076e-08 - val_loss: 1.4367e-07\n",
      "Epoch 42/50\n",
      "185600/185600 [==============================] - 9s 48us/step - loss: 6.5173e-08 - val_loss: 5.7728e-08\n",
      "Epoch 43/50\n",
      "185600/185600 [==============================] - 9s 47us/step - loss: 6.8199e-08 - val_loss: 5.2225e-08\n",
      "Epoch 44/50\n",
      "185600/185600 [==============================] - 9s 47us/step - loss: 7.6827e-08 - val_loss: 1.1607e-07\n",
      "Epoch 45/50\n",
      "185600/185600 [==============================] - 9s 47us/step - loss: 6.0503e-08 - val_loss: 4.1654e-08\n",
      "Epoch 46/50\n",
      "185600/185600 [==============================] - 9s 50us/step - loss: 6.8408e-08 - val_loss: 2.2434e-07\n",
      "Epoch 47/50\n",
      "185600/185600 [==============================] - 9s 49us/step - loss: 5.8814e-08 - val_loss: 9.8100e-08\n",
      "Epoch 48/50\n",
      "185600/185600 [==============================] - 9s 46us/step - loss: 6.8317e-08 - val_loss: 6.2331e-08\n",
      "Epoch 49/50\n",
      "185600/185600 [==============================] - 9s 46us/step - loss: 5.7553e-08 - val_loss: 9.3598e-08\n",
      "Epoch 50/50\n",
      "185600/185600 [==============================] - 8s 46us/step - loss: 6.5884e-08 - val_loss: 1.4776e-07\n"
     ]
    }
   ],
   "source": [
    "model.compile(loss='mse', optimizer='adam')\n",
    "history = model.fit([P_Train, T_new_Train], T_Train, batch_size=146, epochs=50,\n",
    "                    validation_data=([P_Test,T_new_Test], T_Test))"
   ]
  },
  {
   "cell_type": "code",
   "execution_count": 14,
   "metadata": {},
   "outputs": [],
   "source": [
    "pred = model.predict([P_Test, T_new_Test])"
   ]
  },
  {
   "cell_type": "code",
   "execution_count": 15,
   "metadata": {},
   "outputs": [
    {
     "data": {
      "image/png": "[encoded data removed]",
      "text/plain": [
       "<matplotlib.figure.Figure at 0x20192782ef0>"
      ]
     },
     "metadata": {},
     "output_type": "display_data"
    }
   ],
   "source": [
    "plt.figure(figsize=(10,5))\n",
    "plt.plot(T_Test[0:730], linewidth=2, label='real')\n",
    "plt.plot(pred[0:730], linewidth=2, label='Predict')\n",
    "plt.xlabel('step')\n",
    "plt.ylabel('deltU')\n",
    "plt.legend()\n",
    "plt.show()"
   ]
  },
  {
   "cell_type": "code",
   "execution_count": 16,
   "metadata": {},
   "outputs": [],
   "source": [
    "model.save('encoder_decoder_gru_python_data_145.h5')"
   ]
  },
  {
   "cell_type": "code",
   "execution_count": 17,
   "metadata": {},
   "outputs": [],
   "source": [
    "a = [1,2,3,4]"
   ]
  },
  {
   "cell_type": "code",
   "execution_count": null,
   "metadata": {},
   "outputs": [],
   "source": []
  }
 ],
 "metadata": {
  "kernelspec": {
   "display_name": "Python 3",
   "language": "python",
   "name": "python3"
  },
  "language_info": {
   "codemirror_mode": {
    "name": "ipython",
    "version": 3
   },
   "file_extension": ".py",
   "mimetype": "text/x-python",
   "name": "python",
   "nbconvert_exporter": "python",
   "pygments_lexer": "ipython3",
   "version": "3.5.2"
  }
 },
 "nbformat": 4,
 "nbformat_minor": 2
}
