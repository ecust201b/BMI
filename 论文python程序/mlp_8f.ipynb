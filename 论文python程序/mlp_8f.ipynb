{
 "cells": [
  {
   "cell_type": "code",
   "execution_count": 1,
   "metadata": {},
   "outputs": [
    {
     "name": "stderr",
     "output_type": "stream",
     "text": [
      "Using TensorFlow backend.\n"
     ]
    }
   ],
   "source": [
    "import numpy as np\n",
    "from keras.models import Sequential\n",
    "from keras.layers import Dense, Activation"
   ]
  },
  {
   "cell_type": "code",
   "execution_count": 2,
   "metadata": {},
   "outputs": [],
   "source": [
    "class ELM(object):\n",
    "    def __init__(self,x,num):\n",
    "        row = x.shape[0]\n",
    "        columns = x.shape[1]\n",
    "        rnd = np.random.RandomState(4444)\n",
    "        self.w = np.random.randn(columns, num)\n",
    "        self.b = np.random.randn(num) * 0.1\n",
    "        o = np.dot(x,self.w)+self.b\n",
    "        h = self.sigmoid(o)\n",
    "        self.H_ = np.linalg.pinv(h)\n",
    "        \n",
    "    def tanh(self, x):\n",
    "        return np.tanh(x)\n",
    "    \n",
    "    def sigmoid(self,x):\n",
    "        return 1.0 / (1 + np.exp(-x))\n",
    " \n",
    "    def regressor_train(self,T):\n",
    "#         T = T.reshape(-1,T.shape[1])\n",
    "        self.beta = np.dot(self.H_,T)\n",
    "        return self.beta, self.w, self.b\n",
    "    \n",
    "    def regressor_test(self,test_x):\n",
    "        h = self.sigmoid(np.dot(test_x, self.w)+self.b)\n",
    "        result = np.dot(h, self.beta)\n",
    "        return result\n",
    "    \n",
    "    def classifisor_train(self,T):\n",
    "        en_one = OneHotEncoder()\n",
    "        T = en_one.fit_transform(T.reshape(-1,1)).toarray() #独热编码之后一定要用toarray()转换成正常的数组\n",
    "        # T = np.asarray(T)\n",
    "        print(self.H_.shape)\n",
    "        print(T.shape)\n",
    "        self.beta = np.dot(self.H_,T)\n",
    "        print(self.beta.shape)\n",
    "        return self.beta\n",
    "    \n",
    "    def classifisor_test(self,test_x):\n",
    "        b_row = test_x.shape[0]\n",
    "        h = self.sigmoid(np.dot(test_x,self.w)+self.b[:b_row,:])\n",
    "        result = np.dot(h,self.beta)\n",
    "        result = [item.tolist().index(max(item.tolist())) for item in result]\n",
    "        return result\n"
   ]
  },
  {
   "cell_type": "code",
   "execution_count": 3,
   "metadata": {},
   "outputs": [],
   "source": [
    "import pandas as pd\n",
    "data = pd.read_csv('data_python.csv')\n",
    "data.head()\n",
    "P2 = 1 - data['P1']\n",
    "data['P2'] = P2"
   ]
  },
  {
   "cell_type": "code",
   "execution_count": 4,
   "metadata": {},
   "outputs": [],
   "source": [
    "train_x1 = data[['Y1', 'Y2', 'U1', 'U2']].values.reshape(233600, 4)\n",
    "train_x2 = data[['DP1', 'DP2', 'P1', 'P2']].values.reshape(233600, 4)\n",
    "train_y = data['X1'].values.reshape(233600, 1)"
   ]
  },
  {
   "cell_type": "code",
   "execution_count": 5,
   "metadata": {},
   "outputs": [
    {
     "name": "stdout",
     "output_type": "stream",
     "text": [
      "(233599, 8)\n"
     ]
    }
   ],
   "source": [
    "train_x1 = train_x1[1:, :]\n",
    "train_x2 = train_x2[: len(train_x2) -1, :]\n",
    "train_x = np.hstack((train_x1, train_x2))\n",
    "train_y = np.array(train_y)[1:, :]\n",
    "print(train_x.shape)"
   ]
  },
  {
   "cell_type": "code",
   "execution_count": 6,
   "metadata": {},
   "outputs": [],
   "source": [
    "from sklearn.preprocessing import StandardScaler\n",
    "from sklearn.externals import joblib\n",
    "stdsc = StandardScaler()\n",
    "train_x = stdsc.fit_transform(train_x)\n",
    "joblib.dump(stdsc, \"stdsc_python_mlp.m\")\n",
    "X_train = train_x[:186880, :]\n",
    "X_test = train_x[186880:, :]\n",
    "Y_train = train_y[:186880, :]\n",
    "Y_test = train_y[186880:, :]"
   ]
  },
  {
   "cell_type": "code",
   "execution_count": 9,
   "metadata": {},
   "outputs": [],
   "source": [
    "model = Sequential()\n",
    "model.add(Dense(50, input_shape=(8, )))\n",
    "model.add(Activation('sigmoid'))\n",
    "model.add(Dense(1))\n",
    "model.compile(optimizer='adam', loss='mse')"
   ]
  },
  {
   "cell_type": "code",
   "execution_count": 10,
   "metadata": {},
   "outputs": [
    {
     "name": "stdout",
     "output_type": "stream",
     "text": [
      "Train on 186880 samples, validate on 46719 samples\n",
      "Epoch 1/40\n",
      "186880/186880 [==============================] - 2s 11us/step - loss: 0.0044 - val_loss: 1.3158e-05\n",
      "Epoch 2/40\n",
      "186880/186880 [==============================] - 2s 9us/step - loss: 1.0463e-05 - val_loss: 8.9492e-06\n",
      "Epoch 3/40\n",
      "186880/186880 [==============================] - 2s 9us/step - loss: 6.7305e-06 - val_loss: 5.0176e-06\n",
      "Epoch 4/40\n",
      "186880/186880 [==============================] - 2s 9us/step - loss: 2.9105e-06 - val_loss: 1.4781e-06\n",
      "Epoch 5/40\n",
      "186880/186880 [==============================] - 2s 9us/step - loss: 9.5559e-07 - val_loss: 6.1731e-07\n",
      "Epoch 6/40\n",
      "186880/186880 [==============================] - 2s 9us/step - loss: 4.7502e-07 - val_loss: 5.1761e-07\n",
      "Epoch 7/40\n",
      "186880/186880 [==============================] - 2s 9us/step - loss: 5.4347e-07 - val_loss: 7.6074e-07\n",
      "Epoch 8/40\n",
      "186880/186880 [==============================] - 2s 9us/step - loss: 9.0155e-07 - val_loss: 1.0242e-06\n",
      "Epoch 9/40\n",
      "186880/186880 [==============================] - 2s 9us/step - loss: 1.2708e-06 - val_loss: 1.4985e-06\n",
      "Epoch 10/40\n",
      "186880/186880 [==============================] - 2s 9us/step - loss: 1.0475e-06 - val_loss: 3.7086e-07\n",
      "Epoch 11/40\n",
      "186880/186880 [==============================] - 2s 9us/step - loss: 1.0290e-06 - val_loss: 1.2045e-07\n",
      "Epoch 12/40\n",
      "186880/186880 [==============================] - 2s 9us/step - loss: 1.0306e-06 - val_loss: 1.5578e-06\n",
      "Epoch 13/40\n",
      "186880/186880 [==============================] - 2s 9us/step - loss: 1.0166e-06 - val_loss: 3.1315e-07\n",
      "Epoch 14/40\n",
      "186880/186880 [==============================] - 2s 9us/step - loss: 9.2036e-07 - val_loss: 1.5562e-06\n",
      "Epoch 15/40\n",
      "186880/186880 [==============================] - 2s 10us/step - loss: 1.1988e-06 - val_loss: 3.2236e-07\n",
      "Epoch 16/40\n",
      "186880/186880 [==============================] - 2s 9us/step - loss: 9.8017e-07 - val_loss: 2.4759e-07\n",
      "Epoch 17/40\n",
      "186880/186880 [==============================] - 2s 9us/step - loss: 9.7186e-07 - val_loss: 1.2411e-06\n",
      "Epoch 18/40\n",
      "186880/186880 [==============================] - 2s 9us/step - loss: 9.9437e-07 - val_loss: 8.9594e-08\n",
      "Epoch 19/40\n",
      "186880/186880 [==============================] - 2s 9us/step - loss: 1.0032e-06 - val_loss: 1.1837e-06\n",
      "Epoch 20/40\n",
      "186880/186880 [==============================] - 2s 9us/step - loss: 8.9733e-07 - val_loss: 1.4399e-07\n",
      "Epoch 21/40\n",
      "186880/186880 [==============================] - 2s 9us/step - loss: 1.0575e-06 - val_loss: 1.0630e-07\n",
      "Epoch 22/40\n",
      "186880/186880 [==============================] - 2s 10us/step - loss: 1.0704e-06 - val_loss: 2.7527e-07\n",
      "Epoch 23/40\n",
      "186880/186880 [==============================] - 2s 9us/step - loss: 1.1448e-06 - val_loss: 9.6182e-08\n",
      "Epoch 24/40\n",
      "186880/186880 [==============================] - 2s 9us/step - loss: 6.8126e-07 - val_loss: 3.5636e-07\n",
      "Epoch 25/40\n",
      "186880/186880 [==============================] - 3s 14us/step - loss: 9.8747e-07 - val_loss: 1.5861e-07\n",
      "Epoch 26/40\n",
      "186880/186880 [==============================] - 2s 13us/step - loss: 9.8320e-07 - val_loss: 9.5308e-08\n",
      "Epoch 27/40\n",
      "186880/186880 [==============================] - 2s 12us/step - loss: 1.1370e-06 - val_loss: 1.2364e-07\n",
      "Epoch 28/40\n",
      "186880/186880 [==============================] - 2s 12us/step - loss: 8.4613e-07 - val_loss: 1.2252e-07\n",
      "Epoch 29/40\n",
      "186880/186880 [==============================] - 2s 13us/step - loss: 8.2804e-07 - val_loss: 1.2453e-06\n",
      "Epoch 30/40\n",
      "186880/186880 [==============================] - 2s 12us/step - loss: 8.2638e-07 - val_loss: 1.0323e-07\n",
      "Epoch 31/40\n",
      "186880/186880 [==============================] - 3s 14us/step - loss: 1.1684e-06 - val_loss: 3.4929e-07\n",
      "Epoch 32/40\n",
      "186880/186880 [==============================] - 2s 11us/step - loss: 7.5900e-07 - val_loss: 6.4391e-07\n",
      "Epoch 33/40\n",
      "186880/186880 [==============================] - 2s 11us/step - loss: 8.7528e-07 - val_loss: 1.4272e-07\n",
      "Epoch 34/40\n",
      "186880/186880 [==============================] - 2s 11us/step - loss: 9.6848e-07 - val_loss: 2.3137e-07\n",
      "Epoch 35/40\n",
      "186880/186880 [==============================] - 2s 12us/step - loss: 9.2096e-07 - val_loss: 9.3043e-08\n",
      "Epoch 36/40\n",
      "186880/186880 [==============================] - 2s 11us/step - loss: 9.6033e-07 - val_loss: 5.8221e-08\n",
      "Epoch 37/40\n",
      "186880/186880 [==============================] - 2s 11us/step - loss: 8.5841e-07 - val_loss: 1.2342e-07\n",
      "Epoch 38/40\n",
      "186880/186880 [==============================] - 2s 13us/step - loss: 8.9988e-07 - val_loss: 4.2016e-07\n",
      "Epoch 39/40\n",
      "186880/186880 [==============================] - 2s 11us/step - loss: 1.0593e-06 - val_loss: 5.1933e-08\n",
      "Epoch 40/40\n",
      "186880/186880 [==============================] - 2s 11us/step - loss: 8.4675e-07 - val_loss: 4.7289e-07\n"
     ]
    }
   ],
   "source": [
    "history = model.fit(X_train, Y_train, batch_size=146, epochs=40,\n",
    "                    validation_data=(X_test, Y_test))"
   ]
  },
  {
   "cell_type": "code",
   "execution_count": 11,
   "metadata": {},
   "outputs": [
    {
     "name": "stdout",
     "output_type": "stream",
     "text": [
      "(46719, 1)\n"
     ]
    }
   ],
   "source": [
    "res = model.predict(X_test)\n",
    "print(res.shape)"
   ]
  },
  {
   "cell_type": "code",
   "execution_count": 12,
   "metadata": {},
   "outputs": [],
   "source": [
    "model.save('mlp_x1.h5')"
   ]
  },
  {
   "cell_type": "code",
   "execution_count": null,
   "metadata": {},
   "outputs": [],
   "source": [
    "# elm = ELM(train_x1, 100)\n",
    "# beta, w, b = elm.regressor_train(train_y)\n",
    "# np.save('beta_y', beta)\n",
    "# np.save('w_y', w)\n",
    "# np.save('b_y', b)\n",
    "# print(w.shape, b.shape, beta.shape)"
   ]
  },
  {
   "cell_type": "code",
   "execution_count": null,
   "metadata": {},
   "outputs": [],
   "source": [
    "# elm2 = ELM(X_train, 20)\n",
    "# beta2, w2, b2 = elm2.regressor_train(Y_train)\n",
    "# np.save('beta_x_10f', beta2)\n",
    "# np.save('w_x_10f', w2)\n",
    "# np.save('b_x_10f', b2)\n",
    "# print(w2.shape, b2.shape, beta2.shape)"
   ]
  },
  {
   "cell_type": "code",
   "execution_count": 13,
   "metadata": {},
   "outputs": [
    {
     "data": {
      "image/png": "[encoded data removed]",
      "text/plain": [
       "<matplotlib.figure.Figure at 0x191e47001d0>"
      ]
     },
     "metadata": {},
     "output_type": "display_data"
    }
   ],
   "source": [
    "import matplotlib.pyplot as plt\n",
    "plt.plot(res[:600])\n",
    "plt.plot(Y_test[:600])\n",
    "plt.show()"
   ]
  },
  {
   "cell_type": "code",
   "execution_count": null,
   "metadata": {},
   "outputs": [],
   "source": [
    "# w = train_x2 - elm2.regressor_test(train_x1)\n",
    "# W = 1 / 233599 * np.dot(w.T, w)\n",
    "# print(W.shape, W)\n"
   ]
  },
  {
   "cell_type": "code",
   "execution_count": null,
   "metadata": {},
   "outputs": [],
   "source": [
    "# v = train_y - elm.regressor_test(train_x1)\n",
    "# V  = 1 / 233599 * np.dot(v.T, v)\n",
    "# print(V.shape, v)"
   ]
  },
  {
   "cell_type": "code",
   "execution_count": null,
   "metadata": {},
   "outputs": [],
   "source": []
  }
 ],
 "metadata": {
  "kernelspec": {
   "display_name": "Python 3",
   "language": "python",
   "name": "python3"
  },
  "language_info": {
   "codemirror_mode": {
    "name": "ipython",
    "version": 3
   },
   "file_extension": ".py",
   "mimetype": "text/x-python",
   "name": "python",
   "nbconvert_exporter": "python",
   "pygments_lexer": "ipython3",
   "version": "3.5.2"
  }
 },
 "nbformat": 4,
 "nbformat_minor": 2
}
